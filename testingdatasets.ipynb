{
 "cells": [
  {
   "cell_type": "code",
   "execution_count": 70,
   "metadata": {
    "collapsed": false
   },
   "outputs": [],
   "source": [
    "''' \n",
    "-supervised learning python 2\n",
    "-netflix sotck data\n",
    "The features are the descriptive attributes\n",
    "and the label is what you're attempting to predict or forecast.\n",
    "As such, our features are actually: current price, \n",
    "high minus low percent, and the percent change volatility.\n",
    "'''\n",
    "import quandl\n",
    "import pandas as pd\n",
    "csv_obj = quandl.get(\"WIKI/nflx\")\n",
    "#csv_obj = pd.read_csv('nflx.csv',  encoding='utf-8-sig')\n",
    "#csv_obj"
   ]
  },
  {
   "cell_type": "code",
   "execution_count": 71,
   "metadata": {
    "collapsed": false,
    "scrolled": true
   },
   "outputs": [],
   "source": [
    "#new col: HL_PCT high - low percent\n",
    "csv_obj[\"HL_PCT\"]= (csv_obj[\"Adj. High\"] - csv_obj[\"Adj. Close\"]) / csv_obj['Adj. Close'] * 100.0\n",
    "#new col: pct chane new - old / old * 100\n",
    "csv_obj[\"PCT_DALY_CHANGE\"]= (csv_obj[\"Adj. Close\"] - csv_obj[\"Adj. Open\"]) / csv_obj['Adj. Open'] * 100.0\n"
   ]
  },
  {
   "cell_type": "code",
   "execution_count": 72,
   "metadata": {
    "collapsed": false
   },
   "outputs": [],
   "source": [
    " \n",
    "csv_obj = csv_obj[[\"Adj. Close\",\"HL_PCT\",\"PCT_DALY_CHANGE\", \"Volume\"]]\n",
    "#featurs\n"
   ]
  },
  {
   "cell_type": "code",
   "execution_count": 73,
   "metadata": {
    "collapsed": false
   },
   "outputs": [],
   "source": [
    "#prediction_col\n",
    "forecast_col = 'Adj. Close'\n",
    "#replacing NAN data\n",
    "csv_obj.fillna(-99999, inplace=True)\n"
   ]
  },
  {
   "cell_type": "code",
   "execution_count": 74,
   "metadata": {
    "collapsed": false
   },
   "outputs": [
    {
     "data": {
      "text/plain": [
       "38"
      ]
     },
     "execution_count": 74,
     "metadata": {},
     "output_type": "execute_result"
    }
   ],
   "source": [
    "import math\n",
    "#We're saying we want to forecast out 1% of the entire length of the dataset. \n",
    "#using data to forecast 10 days into the future\n",
    "forecast_out = int(math.ceil(0.01*len(csv_obj)))#math.celi rounds up to the nearest whole\n",
    "forecast_out"
   ]
  },
  {
   "cell_type": "code",
   "execution_count": 75,
   "metadata": {
    "collapsed": false
   },
   "outputs": [],
   "source": [
    "csv_obj['label'] = csv_obj[forecast_col].shift(-forecast_out)\n"
   ]
  },
  {
   "cell_type": "code",
   "execution_count": 76,
   "metadata": {
    "collapsed": false
   },
   "outputs": [],
   "source": [
    "import numpy as np\n",
    "\n",
    "from sklearn import preprocessing, cross_validation, svm\n",
    "from sklearn.linear_model import LinearRegression"
   ]
  },
  {
   "cell_type": "code",
   "execution_count": 77,
   "metadata": {
    "collapsed": false
   },
   "outputs": [],
   "source": [
    "X = np.array(csv_obj.drop(['label'],1))\n",
    "\n",
    "X = preprocessing.scale(X)\n",
    "\n",
    "X_lately = X[-forecast_out:]\n",
    "\n",
    "X = X[:-forecast_out:]\n",
    "\n",
    "\n",
    "\n",
    "\n",
    "csv_obj.dropna(inplace=True)\n"
   ]
  },
  {
   "cell_type": "code",
   "execution_count": 78,
   "metadata": {
    "collapsed": false
   },
   "outputs": [],
   "source": [
    "#featurs\n",
    "#X = np.array(csv_obj.drop(['label'], 1))\n",
    "y = np.array(csv_obj['label'])\n"
   ]
  },
  {
   "cell_type": "code",
   "execution_count": 79,
   "metadata": {
    "collapsed": false
   },
   "outputs": [],
   "source": [
    "#X = preprocessing.scale(X)\n",
    "#y = np.array(csv_obj['label'])\n",
    "X_train, X_test, y_train, y_test = cross_validation.train_test_split(X, y, test_size=0.2)\n"
   ]
  },
  {
   "cell_type": "code",
   "execution_count": 80,
   "metadata": {
    "collapsed": false
   },
   "outputs": [
    {
     "data": {
      "text/plain": [
       "LinearRegression(copy_X=True, fit_intercept=True, n_jobs=-1, normalize=False)"
      ]
     },
     "execution_count": 80,
     "metadata": {},
     "output_type": "execute_result"
    }
   ],
   "source": [
    "clf = LinearRegression(n_jobs=-1)\n",
    "clf.fit(X_train, y_train)"
   ]
  },
  {
   "cell_type": "code",
   "execution_count": 81,
   "metadata": {
    "collapsed": false
   },
   "outputs": [
    {
     "data": {
      "text/plain": [
       "0.96395867152715953"
      ]
     },
     "execution_count": 81,
     "metadata": {},
     "output_type": "execute_result"
    }
   ],
   "source": [
    "confidence = clf.score(X_test, y_test)\n",
    "confidence"
   ]
  },
  {
   "cell_type": "code",
   "execution_count": 82,
   "metadata": {
    "collapsed": false
   },
   "outputs": [
    {
     "name": "stdout",
     "output_type": "stream",
     "text": [
      "(array([ 129.37189224,  131.26513449,  131.07199328,  132.05040488,\n",
      "        131.50646951,  131.92751509,  134.23383715,  131.78046749,\n",
      "        131.37473138,  129.59338527,  132.55703424,  134.85615722,\n",
      "        137.03489171,  136.03736997,  136.81582927,  135.67279001,\n",
      "        136.37944073,  135.03182777,  138.84230143,  137.75142553,\n",
      "        138.07896268,  141.3261737 ,  144.13782796,  143.27214813,\n",
      "        146.06297899,  145.50485193,  145.14658629,  148.41232764,\n",
      "        147.12085246,  147.30178947,  147.06980487,  145.88643406,\n",
      "        146.99034828,  147.73223687,  149.96700964,  151.03985638,\n",
      "        150.83263082,  151.36896597]), 0.96395867152715953, 38)\n"
     ]
    },
    {
     "data": {
      "image/png": "[encoded data removed]",
      "text/plain": [
       "<matplotlib.figure.Figure at 0x112171a50>"
      ]
     },
     "metadata": {},
     "output_type": "display_data"
    }
   ],
   "source": [
    "import matplotlib.pyplot as plt\n",
    "from matplotlib import style\n",
    "import datetime, time\n",
    "\n",
    "forecast_set = clf.predict(X_lately)\n",
    "csv_obj['Forecast'] = np.nan\n",
    "\n",
    "print(forecast_set, confidence, forecast_out)\n",
    "\n",
    "\n",
    "last_date = csv_obj.iloc[-1].name\n",
    "last_unix = time.mktime(last_date.timetuple())\n",
    "one_day = 86400\n",
    "next_unix = last_unix + one_day\n",
    "\n",
    "for i in forecast_set:\n",
    "    next_date = datetime.datetime.fromtimestamp(next_unix)\n",
    "    next_unix += 86400\n",
    "    csv_obj.loc[next_date] = [np.nan for _ in range(len(csv_obj.columns)-1)]+[i]\n",
    "\n",
    "csv_obj['Adj. Close'].plot()\n",
    "csv_obj['Forecast'].plot()\n",
    "plt.legend(loc=4)\n",
    "plt.xlabel('Date')\n",
    "plt.ylabel('Price')\n",
    "plt.show()"
   ]
  },
  {
   "cell_type": "code",
   "execution_count": null,
   "metadata": {
    "collapsed": true
   },
   "outputs": [],
   "source": []
  },
  {
   "cell_type": "code",
   "execution_count": null,
   "metadata": {
    "collapsed": true
   },
   "outputs": [],
   "source": []
  }
 ],
 "metadata": {
  "anaconda-cloud": {},
  "kernelspec": {
   "display_name": "Python [conda env:python2]",
   "language": "python",
   "name": "conda-env-python2-py"
  },
  "language_info": {
   "codemirror_mode": {
    "name": "ipython",
    "version": 2
   },
   "file_extension": ".py",
   "mimetype": "text/x-python",
   "name": "python",
   "nbconvert_exporter": "python",
   "pygments_lexer": "ipython2",
   "version": "2.7.12"
  }
 },
 "nbformat": 4,
 "nbformat_minor": 1
}
