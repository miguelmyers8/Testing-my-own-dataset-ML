{
 "cells": [
  {
   "cell_type": "code",
   "execution_count": 94,
   "metadata": {
    "collapsed": false
   },
   "outputs": [],
   "source": [
    "values = [[5,5],[5,5]]\n",
    "\n",
    "def mean(values):\n",
    "    #print sum(values) / float(len(values))\n",
    "    return sum(values) / float(len(values))\n",
    "     \n",
    "     \n",
    "def s(values, mean):\n",
    "    #print sum([(x-mean)**2 for x in values])\n",
    "    return sum([(x-mean)**2 for x in values])\n",
    "\n",
    "\n",
    "if __name__ == '__main__':\n",
    "        s(values, mean(values))        "
   ]
  },
  {
   "cell_type": "code",
   "execution_count": null,
   "metadata": {
    "collapsed": true
   },
   "outputs": [],
   "source": []
  }
 ],
 "metadata": {
  "anaconda-cloud": {},
  "kernelspec": {
   "display_name": "Python [conda env:python2]",
   "language": "python",
   "name": "conda-env-python2-py"
  },
  "language_info": {
   "codemirror_mode": {
    "name": "ipython",
    "version": 2
   },
   "file_extension": ".py",
   "mimetype": "text/x-python",
   "name": "python",
   "nbconvert_exporter": "python",
   "pygments_lexer": "ipython2",
   "version": "2.7.12"
  }
 },
 "nbformat": 4,
 "nbformat_minor": 1
}
