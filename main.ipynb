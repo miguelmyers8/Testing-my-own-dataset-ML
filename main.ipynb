{
 "cells": [
  {
   "cell_type": "code",
   "execution_count": 128,
   "metadata": {
    "collapsed": false
   },
   "outputs": [
    {
     "name": "stdout",
     "output_type": "stream",
     "text": [
      "x stats: mean=3.000 variance=10.000\n",
      "y stats: mean=4.000 variance=6.000\n"
     ]
    }
   ],
   "source": [
    "\n",
    "def mean(values):\n",
    "    #print sum(values) / float(len(values))\n",
    "    return sum(values) / float(len(values))\n",
    "     \n",
    "     \n",
    "def variance(values, mean):\n",
    "    #print sum([(x-mean)**2 for x in values])\n",
    "    return sum([(x-mean)**2 for x in values])\n",
    "\n",
    "values = [[1, 2], [2, 4], [3, 5], [4, 4], [5, 5]]\n",
    "x = [row[0] for row in values]\n",
    "y = [row[1] for row in values]\n",
    "\n",
    "mean_x, mean_y = mean(x), mean(y)\n",
    "#print mean_y\n",
    "#print mean_x\n",
    "var_x, var_y = variance(x, mean_x), variance(y, mean_y)\n",
    "# .3f 3 decimal places\n",
    "print('x stats: mean=%.3f variance=%.3f' %(mean_x, var_x))\n",
    "print('y stats: mean=%.3f variance=%.3f' %(mean_y, var_y))\n",
    "\n",
    "\n",
    "\n",
    "\n",
    "\n",
    "\n",
    "\n",
    "\n",
    "\n",
    "#if __name__ == '__main__':\n",
    "        #variance(values, mean(values))        "
   ]
  },
  {
   "cell_type": "code",
   "execution_count": null,
   "metadata": {
    "collapsed": true
   },
   "outputs": [],
   "source": []
  }
 ],
 "metadata": {
  "anaconda-cloud": {},
  "kernelspec": {
   "display_name": "Python [conda env:python2]",
   "language": "python",
   "name": "conda-env-python2-py"
  },
  "language_info": {
   "codemirror_mode": {
    "name": "ipython",
    "version": 2
   },
   "file_extension": ".py",
   "mimetype": "text/x-python",
   "name": "python",
   "nbconvert_exporter": "python",
   "pygments_lexer": "ipython2",
   "version": "2.7.12"
  }
 },
 "nbformat": 4,
 "nbformat_minor": 1
}
