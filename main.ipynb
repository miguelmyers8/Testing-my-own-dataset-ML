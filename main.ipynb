{
 "cells": [
  {
   "cell_type": "code",
   "execution_count": 152,
   "metadata": {
    "collapsed": false
   },
   "outputs": [
    {
     "name": "stdout",
     "output_type": "stream",
     "text": [
      "Coefficients: b0= 2.200, b1=0.600\n"
     ]
    }
   ],
   "source": [
    "\n",
    "def mean(values):\n",
    "    #print sum(values) / float(len(values))\n",
    "    return sum(values) / float(len(values))\n",
    "     \n",
    "     \n",
    "def variance(values, mean):\n",
    "    #print sum([(x-mean)**2 for x in values])\n",
    "    return sum([(x-mean)**2 for x in values])\n",
    "\n",
    "\n",
    "def covariance(x, mean_x, y, mean_y):\n",
    "    covar = 0.0\n",
    "    for i in range(len(x)):\n",
    "        covar += (x[i] - mean_x) * (y[i] - mean_y)\n",
    "    return covar\n",
    "\n",
    "values = [[1, 2], [2, 4], [3, 5], [4, 4], [5, 5]]\n",
    "\n",
    "def coefficients(values):\n",
    "    x = [row[0] for row in values]\n",
    "    y = [row[1] for row in values]\n",
    "    x_mean, y_mean = mean(x), mean(y)\n",
    "    #var_x, var_y = variance(x, mean_x), variance(y, mean_y)\n",
    "    #covar = covariance(x, mean_x, y, mean_y)\n",
    "    b1 = covariance(x, x_mean, y, y_mean) / variance(x, x_mean)\n",
    "    b0 = y_mean - b1 * x_mean\n",
    "    return [b0, b1]\n",
    "\n",
    "values = [[1, 2], [2, 4], [3, 5], [4, 4], [5, 5]]\n",
    "b0,b1 = coefficients(values)\n",
    "print('Coefficients: b0= %.3f, b1=%.3f' % (b0,b1))\n",
    "\n",
    "# .3f 3 decimal places\n",
    "#print('x stats: mean=%.3f variance=%.3f' %(mean_x, var_x))\n",
    "#print('y stats: mean=%.3f variance=%.3f' %(mean_y, var_y))\n",
    "\n",
    "\n",
    "\n",
    "\n",
    "\n",
    "\n",
    "\n",
    "\n",
    "\n",
    "#if __name__ == '__main__':\n",
    "        #variance(values, mean(values))        "
   ]
  },
  {
   "cell_type": "code",
   "execution_count": null,
   "metadata": {
    "collapsed": true
   },
   "outputs": [],
   "source": []
  }
 ],
 "metadata": {
  "anaconda-cloud": {},
  "kernelspec": {
   "display_name": "Python [conda env:python2]",
   "language": "python",
   "name": "conda-env-python2-py"
  },
  "language_info": {
   "codemirror_mode": {
    "name": "ipython",
    "version": 2
   },
   "file_extension": ".py",
   "mimetype": "text/x-python",
   "name": "python",
   "nbconvert_exporter": "python",
   "pygments_lexer": "ipython2",
   "version": "2.7.12"
  }
 },
 "nbformat": 4,
 "nbformat_minor": 1
}
